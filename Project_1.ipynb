{
  "nbformat": 4,
  "nbformat_minor": 0,
  "metadata": {
    "colab": {
      "provenance": [],
      "authorship_tag": "ABX9TyOB/Zwz7SpuV1yX+ibM17S1",
      "include_colab_link": true
    },
    "kernelspec": {
      "name": "python3",
      "display_name": "Python 3"
    },
    "language_info": {
      "name": "python"
    }
  },
  "cells": [
    {
      "cell_type": "markdown",
      "metadata": {
        "id": "view-in-github",
        "colab_type": "text"
      },
      "source": [
        "<a href=\"https://colab.research.google.com/github/Amos-Mugabi/Data-Science/blob/main/Project_1.ipynb\" target=\"_parent\"><img src=\"https://colab.research.google.com/assets/colab-badge.svg\" alt=\"Open In Colab\"/></a>"
      ]
    },
    {
      "cell_type": "code",
      "execution_count": null,
      "metadata": {
        "id": "oAPUDt8sU_pO"
      },
      "outputs": [],
      "source": []
    },
    {
      "cell_type": "markdown",
      "source": [
        "Disaster Preparedness."
      ],
      "metadata": {
        "id": "Q5h6eImRVP-g"
      }
    },
    {
      "cell_type": "code",
      "source": [
        "import pandas as pd\n",
        "import matplotlib.pyplot as plt\n",
        "from sklearn.model_selection import train_test_split\n",
        "from sklearn.linear_model import LogisticRegression\n",
        "\n",
        "class DataLoader:\n",
        "    def load_data(self):\n",
        "        data = {\n",
        "            'Temperature': [28, 30, 32, 35, 34, 33, 31, 29, 27, 25, 28, 30, 32, 35, 34, 33, 31, 29, 27, 25],\n",
        "            'Rainfall': [0.5, 0.1, 0.3, 2.0, 1.5, 0.8, 0.2, 0.4, 0.7, 1.2, 0.5, 0.1, 0.3, 2.0, 1.5, 0.8, 0.2, 0.4, 0.7, 1.2],\n",
        "            'Disaster': ['No', 'No', 'No', 'Yes', 'Yes', 'No', 'No', 'No', 'Yes', 'Yes', 'No', 'No', 'No', 'Yes', 'Yes', 'No', 'No', 'No', 'Yes', 'Yes']\n",
        "        }\n",
        "        return pd.DataFrame(data)\n",
        "\n",
        "class DataProcessor:\n",
        "    def __init__(self, data):\n",
        "        self.data = data\n",
        "\n",
        "    def preprocess_data(self):\n",
        "        return self.data\n",
        "\n",
        "class DataVisualizer:\n",
        "    def __init__(self, data):\n",
        "        self.data = data\n",
        "\n",
        "    def visualize_data(self):\n",
        "        plt.scatter(self.data['Temperature'], self.data['Rainfall'], c=[1 if p == 'Yes' else 0 for p in self.data['Disaster']], cmap='coolwarm')\n",
        "        plt.xlabel('Temperature')\n",
        "        plt.ylabel('Rainfall')\n",
        "        plt.title('Early Warning System')\n",
        "        plt.show()\n",
        "\n",
        "class Pipeline:\n",
        "    def __init__(self):\n",
        "        pass\n",
        "\n",
        "    def run_pipeline(self):\n",
        "        # loading\n",
        "        loader = DataLoader()\n",
        "        data = loader.load_data()\n",
        "\n",
        "        # processing\n",
        "        processor = DataProcessor(data)\n",
        "        preprocessed_data = processor.preprocess_data()\n",
        "\n",
        "        # visualise\n",
        "        visualizer = DataVisualizer(preprocessed_data)\n",
        "        visualizer.visualize_data()\n",
        "\n",
        "        # model\n",
        "        X = preprocessed_data[['Temperature', 'Rainfall']]\n",
        "        y = preprocessed_data['Disaster']\n",
        "        X_train, X_test, y_train, y_test = train_test_split(X, y, test_size=0.6, random_state=42)\n",
        "        model = LogisticRegression()\n",
        "        model.fit(X_train, y_train)\n",
        "        y_pred = model.predict(X_test)\n",
        "\n",
        "        # accuracy\n",
        "        accuracy = (y_pred == y_test).mean()\n",
        "        print(f\"Model Accuracy: {accuracy:.2f}\")\n",
        "\n",
        "\n",
        "        new_temperature = 33\n",
        "        new_rainfall = 1.8\n",
        "        warning = \"Yes\" if model.predict([[new_temperature, new_rainfall]])[0] == 'Yes' else \"No\"\n",
        "        print(f\"Warning: {warning}\")\n",
        "\n",
        "if __name__ == \"__main__\":\n",
        "    pipeline = Pipeline()\n",
        "    pipeline.run_pipeline()"
      ],
      "metadata": {
        "colab": {
          "base_uri": "https://localhost:8080/",
          "height": 561
        },
        "id": "CZDY9DjzVE8_",
        "outputId": "bdf4d9fa-caa2-4971-f1cb-c321a9d74f26"
      },
      "execution_count": 1,
      "outputs": [
        {
          "output_type": "display_data",
          "data": {
            "text/plain": [
              "<Figure size 640x480 with 1 Axes>"
            ],
            "image/png": "[encoded data removed]"
          },
          "metadata": {}
        },
        {
          "output_type": "stream",
          "name": "stdout",
          "text": [
            "Model Accuracy: 0.83\n",
            "Warning: Yes\n"
          ]
        },
        {
          "output_type": "stream",
          "name": "stderr",
          "text": [
            "/usr/local/lib/python3.10/dist-packages/sklearn/base.py:439: UserWarning: X does not have valid feature names, but LogisticRegression was fitted with feature names\n",
            "  warnings.warn(\n"
          ]
        }
      ]
    },
    {
      "cell_type": "markdown",
      "source": [],
      "metadata": {
        "id": "byUvvYNyVOGc"
      }
    }
  ]
}